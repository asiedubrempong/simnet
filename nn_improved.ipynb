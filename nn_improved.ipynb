{
 "cells": [
  {
   "cell_type": "markdown",
   "metadata": {},
   "source": [
    "# Improved version of simNet"
   ]
  },
  {
   "cell_type": "code",
   "execution_count": 1,
   "metadata": {},
   "outputs": [],
   "source": [
    "import random\n",
    "import numpy as np"
   ]
  },
  {
   "cell_type": "code",
   "execution_count": 2,
   "metadata": {},
   "outputs": [],
   "source": [
    "class CrossEntropyCost:\n",
    "    @staticmethod\n",
    "    def output_layer_error(a, y):\n",
    "        \"\"\"\n",
    "        returns the error at the output layer for the cross entropy cost fxn\n",
    "        \"\"\"\n",
    "        return a-y\n",
    "    \n",
    "    @staticmethod\n",
    "    def fn(a, y):\n",
    "        \"\"\"\n",
    "        return the cost associated with a particular prediction\n",
    "        \"\"\"\n",
    "        return np.sum(np.nan_to_num((-y*np.log(a)) - (1-y)*np.log(1-a)))"
   ]
  },
  {
   "cell_type": "code",
   "execution_count": 3,
   "metadata": {},
   "outputs": [],
   "source": [
    "class NN:\n",
    "    def __init__(self, sizes):\n",
    "        self.num_layers = len(sizes)\n",
    "        self.sizes = sizes\n",
    "        self.weights = [np.random.randn(current, previous)/np.sqrt(previous) \n",
    "                        for previous, current in zip(self.sizes[:-1], self.sizes[1:])]\n",
    "        self.biases = [np.random.randn(current, 1) \n",
    "                       for current in self.sizes[1:]]\n",
    "        \n",
    "    def forward_pass(self, x):\n",
    "        for weight, bias in zip(self.weights, self.biases):\n",
    "            z = np.dot(weight, x) + bias\n",
    "            x = self.sigmoid(z)\n",
    "        return x\n",
    "    \n",
    "    def SGD(self, training_data, epochs, bs, lr, \n",
    "            reg_param=0.0, validation_data=None):\n",
    "        training_data = list(training_data)\n",
    "        n = len(training_data)\n",
    "        \n",
    "        for i in range(epochs):\n",
    "            random.shuffle(training_data)\n",
    "            mini_batches = [training_data[index:index+bs] \n",
    "                            for index in range(0, n, bs)]\n",
    "            for mini_batch in mini_batches:\n",
    "                self.run_mini_batch(mini_batch, lr, reg_param, n)\n",
    "                \n",
    "            if validation_data:\n",
    "                validation_data = list(validation_data)\n",
    "                n_val = len(validation_data)\n",
    "                \n",
    "                num_correct = self.evaluate(validation_data)\n",
    "                print(f'Epoch {i+1}: {num_correct} / {n_val}')\n",
    "            else:\n",
    "                print(f'Epoch {i+1} complete')\n",
    "                \n",
    "    def run_mini_batch(self, mini_batch, lr, reg_param, n):\n",
    "        for x, y in mini_batch:\n",
    "            grad_biases, grad_weights = self.backprop(x, y)\n",
    "            \n",
    "            # update rule for weights in SGD using regularization\n",
    "            self.weights = [(1 - (lr*reg_param)/n)*old_weight - (lr/len(mini_batch))*gradient\n",
    "                            for old_weight, gradient in zip(self.weights, grad_weights)]\n",
    "            self.biases = [old_bias - (lr/len(mini_batch))*gradient\n",
    "                           for old_bias, gradient in zip(self.biases, grad_biases)]\n",
    "            \n",
    "    def backprop(self, x, y):\n",
    "        grad_weights = [np.zeros_like(weight) for weight in self.weights]\n",
    "        grad_biases = [np.zeros_like(bias) for bias in self.biases]\n",
    "        \n",
    "        activations = [x]\n",
    "        zs = []\n",
    "        \n",
    "        # forward pass\n",
    "        for weight, bias in zip(self.weights, self.biases):\n",
    "            z = np.dot(weight, x) + bias\n",
    "            zs.append(z)\n",
    "            x = self.sigmoid(z)\n",
    "            activations.append(x)\n",
    "            \n",
    "        # backward pass\n",
    "        error = CrossEntropyCost.output_layer_error(activations[-1], y) # error at the output layer\n",
    "        grad_biases[-1] = error\n",
    "        grad_weights[-1] = np.dot(error, activations[-2].T)\n",
    "        \n",
    "        for i in range(2, self.num_layers):\n",
    "            error = np.dot(self.weights[-i+1].T, error) * self.sigmoid_prime(zs[-i])\n",
    "            grad_biases[-i] = error\n",
    "            grad_weights[-i] = np.dot(error, activations[-i-1].T)\n",
    "        \n",
    "        return grad_biases, grad_weights\n",
    "        \n",
    "    def sigmoid(self, z):\n",
    "        return 1 / (1 + np.exp(-z))\n",
    "    \n",
    "    def sigmoid_prime(self, z):\n",
    "        return self.sigmoid(z) * (1 - self.sigmoid(z))\n",
    "    \n",
    "    def evaluate(self, data):\n",
    "        test_results = [(np.argmax(self.forward_pass(x)), y)\n",
    "                        for x, y in data]\n",
    "        return sum(int(x == y) for x, y in test_results)"
   ]
  },
  {
   "cell_type": "markdown",
   "metadata": {},
   "source": [
    "## Data preparation\n",
    "\n",
    "Neural network is tested on the MNIST dataset"
   ]
  },
  {
   "cell_type": "code",
   "execution_count": 4,
   "metadata": {},
   "outputs": [],
   "source": [
    "import mnist_loader"
   ]
  },
  {
   "cell_type": "code",
   "execution_count": 13,
   "metadata": {},
   "outputs": [],
   "source": [
    "train, val, test = mnist_loader.load_data_wrapper()"
   ]
  },
  {
   "cell_type": "markdown",
   "metadata": {},
   "source": [
    "## Create Network"
   ]
  },
  {
   "cell_type": "code",
   "execution_count": 14,
   "metadata": {},
   "outputs": [],
   "source": [
    "net = NN([784, 100, 10])"
   ]
  },
  {
   "cell_type": "code",
   "execution_count": 15,
   "metadata": {},
   "outputs": [
    {
     "name": "stdout",
     "output_type": "stream",
     "text": [
      "Epoch 1: 9205 / 10000\n",
      "Epoch 2: 9356 / 10000\n",
      "Epoch 3: 9458 / 10000\n",
      "Epoch 4: 9452 / 10000\n",
      "Epoch 5: 9470 / 10000\n",
      "Epoch 6: 9514 / 10000\n",
      "Epoch 7: 9527 / 10000\n",
      "Epoch 8: 9539 / 10000\n",
      "Epoch 9: 9519 / 10000\n",
      "Epoch 10: 9560 / 10000\n",
      "Epoch 11: 9578 / 10000\n",
      "Epoch 12: 9567 / 10000\n",
      "Epoch 13: 9571 / 10000\n",
      "Epoch 14: 9542 / 10000\n",
      "Epoch 15: 9537 / 10000\n",
      "Epoch 16: 9595 / 10000\n",
      "Epoch 17: 9570 / 10000\n",
      "Epoch 18: 9594 / 10000\n",
      "Epoch 19: 9591 / 10000\n",
      "Epoch 20: 9572 / 10000\n"
     ]
    }
   ],
   "source": [
    "net.SGD(train, epochs=20, bs=10, lr=0.1, \n",
    "        reg_param=5.0, validation_data=val)"
   ]
  },
  {
   "cell_type": "code",
   "execution_count": null,
   "metadata": {},
   "outputs": [],
   "source": []
  }
 ],
 "metadata": {
  "kernelspec": {
   "display_name": "Python 3",
   "language": "python",
   "name": "python3"
  },
  "language_info": {
   "codemirror_mode": {
    "name": "ipython",
    "version": 3
   },
   "file_extension": ".py",
   "mimetype": "text/x-python",
   "name": "python",
   "nbconvert_exporter": "python",
   "pygments_lexer": "ipython3",
   "version": "3.6.4"
  }
 },
 "nbformat": 4,
 "nbformat_minor": 2
}
