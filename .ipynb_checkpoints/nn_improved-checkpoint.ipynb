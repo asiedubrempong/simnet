{
 "cells": [
  {
   "cell_type": "markdown",
   "metadata": {},
   "source": [
    "# Improved version of simNet"
   ]
  },
  {
   "cell_type": "code",
   "execution_count": 1,
   "metadata": {},
   "outputs": [],
   "source": [
    "import random\n",
    "import numpy as np"
   ]
  },
  {
   "cell_type": "code",
   "execution_count": 2,
   "metadata": {},
   "outputs": [],
   "source": [
    "class CrossEntropyCost:\n",
    "    @staticmethod\n",
    "    def output_layer_error(a, y):\n",
    "        \"\"\"\n",
    "        returns the error at the output layer for the cross entropy cost fxn\n",
    "        \"\"\"\n",
    "        return a-y\n",
    "    \n",
    "    @staticmethod\n",
    "    def fn(a, y):\n",
    "        \"\"\"\n",
    "        return the cost associated with a particular prediction\n",
    "        \"\"\"\n",
    "        return np.sum(np.nan_to_num((-y*np.log(a)) - (1-y)*np.log(1-a)))"
   ]
  },
  {
   "cell_type": "code",
   "execution_count": 3,
   "metadata": {},
   "outputs": [],
   "source": [
    "class NN:\n",
    "    def __init__(self, sizes):\n",
    "        self.num_layers = len(sizes)\n",
    "        self.sizes = sizes\n",
    "        self.weights = [np.random.randn(current, previous)/np.sqrt(previous) \n",
    "                        for previous, current in zip(self.sizes[:-1], self.sizes[1:])]\n",
    "        self.biases = [np.random.randn(current, 1) \n",
    "                       for current in self.sizes[1:]]\n",
    "        \n",
    "    def forward_pass(self, x):\n",
    "        for weight, bias in zip(self.weights, self.biases):\n",
    "            z = np.dot(weight, x) + bias\n",
    "            x = self.sigmoid(z)\n",
    "        return x\n",
    "    \n",
    "    def SGD(self, training_data, epochs, bs, lr, \n",
    "            reg_param=0.0, validation_data=None):\n",
    "        training_data = list(training_data)\n",
    "        n = len(training_data)\n",
    "        \n",
    "        for i in range(epochs):\n",
    "            random.shuffle(training_data)\n",
    "            mini_batches = [training_data[index:index+bs] \n",
    "                            for index in range(0, n, bs)]\n",
    "            for mini_batch in mini_batches:\n",
    "                self.run_mini_batch(mini_batch, lr, reg_param, n)\n",
    "                \n",
    "            if validation_data:\n",
    "                validation_data = list(validation_data)\n",
    "                n_val = len(validation_data)\n",
    "                \n",
    "                num_correct = self.evaluate(validation_data)\n",
    "                print(f'Epoch {i+1}: {num_correct} / {n_val}')\n",
    "            else:\n",
    "                print(f'Epoch {i+1} complete')\n",
    "                \n",
    "    def run_mini_batch(self, mini_batch, lr, reg_param, n):\n",
    "        for x, y in mini_batch:\n",
    "            grad_biases, grad_weights = self.backprop(x, y)\n",
    "            \n",
    "            # update rule for weights in SGD using regularization\n",
    "            self.weights = [(1 - (lr*reg_param)/n)*old_weight - (lr/len(mini_batch))*gradient\n",
    "                            for old_weight, gradient in zip(self.weights, grad_weights)]\n",
    "            self.biases = [old_bias - (lr/len(mini_batch))*gradient\n",
    "                           for old_bias, gradient in zip(self.biases, grad_biases)]\n",
    "            \n",
    "    def backprop(self, x, y):\n",
    "        grad_weights = [np.zeros_like(weight) for weight in self.weights]\n",
    "        grad_biases = [np.zeros_like(bias) for bias in self.biases]\n",
    "        \n",
    "        activations = [x]\n",
    "        zs = []\n",
    "        \n",
    "        # forward pass\n",
    "        for weight, bias in zip(self.weights, self.biases):\n",
    "            z = np.dot(weight, x) + bias\n",
    "            zs.append(z)\n",
    "            x = self.sigmoid(z)\n",
    "            activations.append(x)\n",
    "            \n",
    "        # backward pass\n",
    "        error = CrossEntropyCost.output_layer_error(activations[-1], y) # error at the output layer\n",
    "        grad_biases[-1] = error\n",
    "        grad_weights[-1] = np.dot(error, activations[-2].T)\n",
    "        \n",
    "        for i in range(2, self.num_layers):\n",
    "            error = np.dot(self.weights[-i+1].T, error) * self.sigmoid_prime(zs[-i])\n",
    "            grad_biases[-i] = error\n",
    "            grad_weights[-i] = np.dot(error, activations[-i-1].T)\n",
    "        \n",
    "        return grad_biases, grad_weights\n",
    "        \n",
    "    def sigmoid(self, z):\n",
    "        return 1 / (1 + np.exp(-z))\n",
    "    \n",
    "    def sigmoid_prime(self, z):\n",
    "        return self.sigmoid(z) * (1 - self.sigmoid(z))\n",
    "    \n",
    "    def evaluate(self, data):\n",
    "        test_results = [(np.argmax(self.forward_pass(x)), y)\n",
    "                        for x, y in data]\n",
    "        return sum(int(x == y) for x, y in test_results)"
   ]
  },
  {
   "cell_type": "markdown",
   "metadata": {},
   "source": [
    "## Data preparation\n",
    "\n",
    "Neural network is tested on the MNIST dataset"
   ]
  },
  {
   "cell_type": "code",
   "execution_count": 4,
   "metadata": {},
   "outputs": [],
   "source": [
    "import mnist_loader"
   ]
  },
  {
   "cell_type": "code",
   "execution_count": 5,
   "metadata": {},
   "outputs": [],
   "source": [
    "train, val, test = mnist_loader.load_data_wrapper()"
   ]
  },
  {
   "cell_type": "markdown",
   "metadata": {},
   "source": [
    "## Create Network"
   ]
  },
  {
   "cell_type": "code",
   "execution_count": 6,
   "metadata": {},
   "outputs": [],
   "source": [
    "net = NN([784, 30, 10])"
   ]
  },
  {
   "cell_type": "code",
   "execution_count": 7,
   "metadata": {},
   "outputs": [
    {
     "ename": "NameError",
     "evalue": "name 'grad_bias' is not defined",
     "output_type": "error",
     "traceback": [
      "\u001b[0;31m---------------------------------------------------------------------------\u001b[0m",
      "\u001b[0;31mNameError\u001b[0m                                 Traceback (most recent call last)",
      "\u001b[0;32m<ipython-input-7-3dbceb7fd3ac>\u001b[0m in \u001b[0;36m<module>\u001b[0;34m()\u001b[0m\n\u001b[1;32m      1\u001b[0m net.SGD(train, epochs=30, bs=10, lr=0.1, \n\u001b[0;32m----> 2\u001b[0;31m         reg_param=5.0, validation_data=val)\n\u001b[0m",
      "\u001b[0;32m<ipython-input-3-3c19ce1f4d4a>\u001b[0m in \u001b[0;36mSGD\u001b[0;34m(self, training_data, epochs, bs, lr, reg_param, validation_data)\u001b[0m\n\u001b[1;32m     24\u001b[0m                             for index in range(0, n, bs)]\n\u001b[1;32m     25\u001b[0m             \u001b[0;32mfor\u001b[0m \u001b[0mmini_batch\u001b[0m \u001b[0;32min\u001b[0m \u001b[0mmini_batches\u001b[0m\u001b[0;34m:\u001b[0m\u001b[0;34m\u001b[0m\u001b[0m\n\u001b[0;32m---> 26\u001b[0;31m                 \u001b[0mself\u001b[0m\u001b[0;34m.\u001b[0m\u001b[0mrun_mini_batch\u001b[0m\u001b[0;34m(\u001b[0m\u001b[0mmini_batch\u001b[0m\u001b[0;34m,\u001b[0m \u001b[0mlr\u001b[0m\u001b[0;34m,\u001b[0m \u001b[0mreg_param\u001b[0m\u001b[0;34m,\u001b[0m \u001b[0mn\u001b[0m\u001b[0;34m)\u001b[0m\u001b[0;34m\u001b[0m\u001b[0m\n\u001b[0m\u001b[1;32m     27\u001b[0m \u001b[0;34m\u001b[0m\u001b[0m\n\u001b[1;32m     28\u001b[0m             \u001b[0;32mif\u001b[0m \u001b[0mvalidation_data\u001b[0m\u001b[0;34m:\u001b[0m\u001b[0;34m\u001b[0m\u001b[0m\n",
      "\u001b[0;32m<ipython-input-3-3c19ce1f4d4a>\u001b[0m in \u001b[0;36mrun_mini_batch\u001b[0;34m(self, mini_batch, lr, reg_param, n)\u001b[0m\n\u001b[1;32m     37\u001b[0m     \u001b[0;32mdef\u001b[0m \u001b[0mrun_mini_batch\u001b[0m\u001b[0;34m(\u001b[0m\u001b[0mself\u001b[0m\u001b[0;34m,\u001b[0m \u001b[0mmini_batch\u001b[0m\u001b[0;34m,\u001b[0m \u001b[0mlr\u001b[0m\u001b[0;34m,\u001b[0m \u001b[0mreg_param\u001b[0m\u001b[0;34m,\u001b[0m \u001b[0mn\u001b[0m\u001b[0;34m)\u001b[0m\u001b[0;34m:\u001b[0m\u001b[0;34m\u001b[0m\u001b[0m\n\u001b[1;32m     38\u001b[0m         \u001b[0;32mfor\u001b[0m \u001b[0mx\u001b[0m\u001b[0;34m,\u001b[0m \u001b[0my\u001b[0m \u001b[0;32min\u001b[0m \u001b[0mmini_batch\u001b[0m\u001b[0;34m:\u001b[0m\u001b[0;34m\u001b[0m\u001b[0m\n\u001b[0;32m---> 39\u001b[0;31m             \u001b[0mgrad_biases\u001b[0m\u001b[0;34m,\u001b[0m \u001b[0mgrad_weights\u001b[0m \u001b[0;34m=\u001b[0m \u001b[0mself\u001b[0m\u001b[0;34m.\u001b[0m\u001b[0mbackprop\u001b[0m\u001b[0;34m(\u001b[0m\u001b[0mx\u001b[0m\u001b[0;34m,\u001b[0m \u001b[0my\u001b[0m\u001b[0;34m)\u001b[0m\u001b[0;34m\u001b[0m\u001b[0m\n\u001b[0m\u001b[1;32m     40\u001b[0m \u001b[0;34m\u001b[0m\u001b[0m\n\u001b[1;32m     41\u001b[0m             \u001b[0;31m# update rule for weights in SGD using regularization\u001b[0m\u001b[0;34m\u001b[0m\u001b[0;34m\u001b[0m\u001b[0m\n",
      "\u001b[0;32m<ipython-input-3-3c19ce1f4d4a>\u001b[0m in \u001b[0;36mbackprop\u001b[0;34m(self, x, y)\u001b[0m\n\u001b[1;32m     61\u001b[0m         \u001b[0;31m# backward pass\u001b[0m\u001b[0;34m\u001b[0m\u001b[0;34m\u001b[0m\u001b[0m\n\u001b[1;32m     62\u001b[0m         \u001b[0merror\u001b[0m \u001b[0;34m=\u001b[0m \u001b[0mCrossEntropyCost\u001b[0m\u001b[0;34m.\u001b[0m\u001b[0moutput_layer_error\u001b[0m\u001b[0;34m(\u001b[0m\u001b[0mactivations\u001b[0m\u001b[0;34m[\u001b[0m\u001b[0;34m-\u001b[0m\u001b[0;36m1\u001b[0m\u001b[0;34m]\u001b[0m\u001b[0;34m,\u001b[0m \u001b[0my\u001b[0m\u001b[0;34m)\u001b[0m \u001b[0;31m# error at the output layer\u001b[0m\u001b[0;34m\u001b[0m\u001b[0m\n\u001b[0;32m---> 63\u001b[0;31m         \u001b[0mgrad_bias\u001b[0m\u001b[0;34m[\u001b[0m\u001b[0;34m-\u001b[0m\u001b[0;36m1\u001b[0m\u001b[0;34m]\u001b[0m \u001b[0;34m=\u001b[0m \u001b[0merror\u001b[0m\u001b[0;34m\u001b[0m\u001b[0m\n\u001b[0m\u001b[1;32m     64\u001b[0m         \u001b[0mgrad_weights\u001b[0m\u001b[0;34m[\u001b[0m\u001b[0;34m-\u001b[0m\u001b[0;36m1\u001b[0m\u001b[0;34m]\u001b[0m \u001b[0;34m=\u001b[0m \u001b[0mnp\u001b[0m\u001b[0;34m.\u001b[0m\u001b[0mdot\u001b[0m\u001b[0;34m(\u001b[0m\u001b[0merror\u001b[0m\u001b[0;34m,\u001b[0m \u001b[0mactivations\u001b[0m\u001b[0;34m[\u001b[0m\u001b[0;34m-\u001b[0m\u001b[0;36m2\u001b[0m\u001b[0;34m]\u001b[0m\u001b[0;34m.\u001b[0m\u001b[0mT\u001b[0m\u001b[0;34m)\u001b[0m\u001b[0;34m\u001b[0m\u001b[0m\n\u001b[1;32m     65\u001b[0m \u001b[0;34m\u001b[0m\u001b[0m\n",
      "\u001b[0;31mNameError\u001b[0m: name 'grad_bias' is not defined"
     ]
    }
   ],
   "source": [
    "net.SGD(train, epochs=30, bs=10, lr=0.1, \n",
    "        reg_param=5.0, validation_data=val)"
   ]
  },
  {
   "cell_type": "code",
   "execution_count": null,
   "metadata": {},
   "outputs": [],
   "source": []
  }
 ],
 "metadata": {
  "kernelspec": {
   "display_name": "Python 3",
   "language": "python",
   "name": "python3"
  },
  "language_info": {
   "codemirror_mode": {
    "name": "ipython",
    "version": 3
   },
   "file_extension": ".py",
   "mimetype": "text/x-python",
   "name": "python",
   "nbconvert_exporter": "python",
   "pygments_lexer": "ipython3",
   "version": "3.6.4"
  }
 },
 "nbformat": 4,
 "nbformat_minor": 2
}
